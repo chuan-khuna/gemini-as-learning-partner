{
 "cells": [
  {
   "cell_type": "code",
   "execution_count": 17,
   "metadata": {},
   "outputs": [],
   "source": [
    "import numpy as np\n",
    "import pandas as pd\n",
    "import os\n",
    "\n",
    "import google.generativeai as genai\n",
    "\n",
    "from libs.load_yaml import load_yaml\n",
    "from libs.chroma.client import ChromaClient\n",
    "from libs.gemini import GeminiClient\n",
    "from libs.monad.maybe_monad import Maybe, Just, Nothing\n",
    "\n",
    "from IPython.display import Markdown\n",
    "\n",
    "config = load_yaml(\"config.yml\")\n",
    "GEMINI_TOKEN = config[\"gemini\"][\"token\"]\n",
    "GEMINI_MODEL = 'gemini-pro'\n",
    "\n",
    "genai.configure(api_key=GEMINI_TOKEN)"
   ]
  },
  {
   "cell_type": "code",
   "execution_count": 2,
   "metadata": {},
   "outputs": [],
   "source": [
    "def list_files(path, ext='.md'):\n",
    "    files = []\n",
    "    for root, dirs, filenames in os.walk(path):\n",
    "        for filename in filenames:\n",
    "            files.append(os.path.join(root, filename))\n",
    "    files = [f for f in files if f.lower().endswith(ext)]\n",
    "    return files\n",
    "\n",
    "notes = list_files('Notes')"
   ]
  },
  {
   "cell_type": "code",
   "execution_count": 3,
   "metadata": {},
   "outputs": [],
   "source": [
    "notes_data = []\n",
    "for f in notes:\n",
    "    with open(f, 'r') as file:\n",
    "        content = file.read()\n",
    "        name = os.path.basename(f)\n",
    "        notes_data.append({'name': name, 'content': content})\n",
    "\n",
    "df = pd.DataFrame(notes_data)\n",
    "df = df.rename(columns={'content': 'text', 'name': 'id'})\n",
    "df = df[df['text'].str.len() > 0]"
   ]
  },
  {
   "cell_type": "code",
   "execution_count": 4,
   "metadata": {},
   "outputs": [
    {
     "name": "stderr",
     "output_type": "stream",
     "text": [
      "Adding documents: 0it [00:00, ?it/s]Insert of existing embedding ID: Fast Fourier Transform.md\n",
      "Add of existing embedding ID: Fast Fourier Transform.md\n",
      "Adding documents: 341it [02:30,  2.26it/s]"
     ]
    },
    {
     "name": "stdout",
     "output_type": "stream",
     "text": [
      "2024/01/22 20:46:28 - Initialising Gemini gemini-pro Client...\n"
     ]
    },
    {
     "name": "stderr",
     "output_type": "stream",
     "text": [
      "\n"
     ]
    }
   ],
   "source": [
    "client = ChromaClient('digital_garden', persist=True)\n",
    "client.add_documents(df)\n",
    "\n",
    "gemini = GeminiClient(api_key=GEMINI_TOKEN, model=GEMINI_MODEL)"
   ]
  },
  {
   "cell_type": "code",
   "execution_count": 6,
   "metadata": {},
   "outputs": [],
   "source": [
    "def make_prompt(question, docs):\n",
    "    prompt = \"Based on given articles:\\n\\n\"\n",
    "\n",
    "    for i, doc in enumerate(docs):\n",
    "        prompt += f\"{i+1}.\" + doc + \"\\n\\n\"\n",
    "\n",
    "    prompt += \"Answer this question: \"\n",
    "    prompt += question + \"\\n\\n\"\n",
    "\n",
    "    return prompt"
   ]
  },
  {
   "cell_type": "code",
   "execution_count": 14,
   "metadata": {},
   "outputs": [],
   "source": [
    "def get_docs(question, keywords, n, include_question=True):\n",
    "    if keywords:\n",
    "        filter_dict = {'$or': [{\"$contains\": kw} for kw in keywords]}\n",
    "        if len(keywords) == 1:\n",
    "            filter_dict = {\"$contains\": keywords[0]}\n",
    "    else:\n",
    "        filter_dict = None\n",
    "\n",
    "    if include_question:\n",
    "        keywords = [question] + keywords\n",
    "\n",
    "    if filter_dict:\n",
    "        docs = client.search_related(query_texts=keywords, n_results=n, where_document=filter_dict)\n",
    "    else:\n",
    "        docs = client.search_related(query_texts=keywords, n_results=n)\n",
    "    return docs"
   ]
  },
  {
   "cell_type": "code",
   "execution_count": 20,
   "metadata": {},
   "outputs": [],
   "source": [
    "question = \"What is monad\"\n",
    "keywords = [\"Monad\"]\n",
    "max_result = 5\n",
    "\n",
    "docs = get_docs(question, keywords, max_result)"
   ]
  },
  {
   "cell_type": "code",
   "execution_count": 21,
   "metadata": {},
   "outputs": [
    {
     "data": {
      "text/markdown": [
       "A monad is a design pattern that represents a computation that may fail. It is often used to handle errors or exceptions in a functional programming language. The monad pattern allows developers to write code that is more expressive and easier to read.\n",
       "\n",
       "Monads are defined by two operations: `bind` and `return`. The `bind` operation takes a monadic value and a function that takes the value and returns a new monadic value. The `return` operation takes a value and returns a monadic value that contains the value.\n",
       "\n",
       "Monads can be used to represent a variety of computations, including computations that may fail, computations that may produce multiple results, and computations that may have side effects.\n",
       "\n",
       "Here are some common examples of monads:\n",
       "\n",
       "* The `Maybe` monad represents a value that may or may not be present. The `bind` operation for the `Maybe` monad returns `Nothing` if the value is not present, and it returns the result of applying the function to the value if the value is present.\n",
       "* The `List` monad represents a list of values. The `bind` operation for the `List` monad applies the function to each element of the list and returns a list of the results.\n",
       "* The `IO` monad represents a computation that may have side effects. The `bind` operation for the `IO` monad executes the computation and returns the result of the computation.\n",
       "\n",
       "Monads can be used to write code that is more expressive and easier to read. For example, the following code uses the `Maybe` monad to handle errors:\n",
       "\n",
       "```\n",
       "function divide(dividend, divisor) {\n",
       "  if (divisor === 0) {\n",
       "    return Nothing();\n",
       "  }\n",
       "\n",
       "  return Just(dividend / divisor);\n",
       "}\n",
       "```\n",
       "\n",
       "This code uses the `Maybe` monad to represent the possibility of division by zero. The `divide` function returns `Nothing()` if the divisor is zero, and it returns `Just(dividend / divisor)` if the divisor is not zero.\n",
       "\n",
       "The following code uses the `List` monad to process a list of numbers:\n",
       "\n",
       "```\n",
       "function sum(numbers) {\n",
       "  return numbers.reduce((acc, num) => acc + num, 0);\n",
       "}\n",
       "```\n",
       "\n",
       "This code uses the `List` monad to represent the list of numbers. The `sum` function uses the `reduce` method to add up all of the numbers in the list.\n",
       "\n",
       "Monads are a powerful tool for writing functional code. They can be used to represent a variety of computations, and they can make code more expressive and easier to read."
      ],
      "text/plain": [
       "<IPython.core.display.Markdown object>"
      ]
     },
     "execution_count": 21,
     "metadata": {},
     "output_type": "execute_result"
    }
   ],
   "source": [
    "res: Maybe[str] = gemini.generate(make_prompt(question, docs))\n",
    "\n",
    "if res.is_just():\n",
    "    res = res.value\n",
    "else:\n",
    "    print(res.error)\n",
    "    res = None\n",
    "\n",
    "Markdown(res)"
   ]
  },
  {
   "cell_type": "code",
   "execution_count": null,
   "metadata": {},
   "outputs": [],
   "source": []
  }
 ],
 "metadata": {
  "kernelspec": {
   "display_name": "py311g",
   "language": "python",
   "name": "python3"
  },
  "language_info": {
   "codemirror_mode": {
    "name": "ipython",
    "version": 3
   },
   "file_extension": ".py",
   "mimetype": "text/x-python",
   "name": "python",
   "nbconvert_exporter": "python",
   "pygments_lexer": "ipython3",
   "version": "3.11.7"
  }
 },
 "nbformat": 4,
 "nbformat_minor": 2
}
