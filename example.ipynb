{
 "cells": [
  {
   "cell_type": "code",
   "execution_count": 10,
   "metadata": {},
   "outputs": [],
   "source": [
    "import numpy as np\n",
    "import pandas as pd\n",
    "import os\n",
    "\n",
    "import google.generativeai as genai\n",
    "\n",
    "from libs.load_yaml import load_yaml\n",
    "from libs.chroma.client import ChromaClient\n",
    "from libs.gemini import GeminiClient\n",
    "from libs.monad.maybe_monad import Maybe, Just, Nothing\n",
    "\n",
    "config = load_yaml(\"config.yml\")\n",
    "GEMINI_TOKEN = config[\"gemini\"][\"token\"]\n",
    "GEMINI_MODEL = 'gemini-pro'\n",
    "\n",
    "genai.configure(api_key=GEMINI_TOKEN)"
   ]
  },
  {
   "cell_type": "code",
   "execution_count": 7,
   "metadata": {},
   "outputs": [
    {
     "name": "stdout",
     "output_type": "stream",
     "text": [
      "2024/01/21 21:14:35 - Initialising Gemini gemini-pro Client...\n"
     ]
    }
   ],
   "source": [
    "client = ChromaClient('digital_garden', persist=True)\n",
    "\n",
    "gemini = GeminiClient(api_key=GEMINI_TOKEN, model=GEMINI_MODEL)"
   ]
  },
  {
   "cell_type": "code",
   "execution_count": 11,
   "metadata": {},
   "outputs": [
    {
     "name": "stdout",
     "output_type": "stream",
     "text": [
      "Functional programming is a programming paradigm that emphasizes the use of functions as the fundamental building blocks of programs. Functional programs are constructed by composing and combining functions, much like a mathematician would solve a problem by breaking it down into a series of smaller, more manageable steps.\n",
      "\n",
      "Some key features of functional programming include:\n",
      "\n",
      "* **Emphasis on functions:** Functions are the primary building blocks of functional programs. They are used to represent both computations and data structures.\n",
      "* **Immutability:** Functional programs typically avoid modifying existing data. Instead, they create new data structures when necessary. This makes reasoning about functional programs easier, as the state of the program never changes.\n",
      "* **Recursion:** Functional programs often use recursion to solve problems. This involves defining a function that calls itself to break a problem down into smaller subproblems.\n",
      "* **Higher-order functions:** Functional languages support higher-order functions, which are functions that can take other functions as arguments or return functions as results. This allows for a great deal of code reuse and makes it easy to write generic algorithms.\n",
      "\n",
      "Functional programming has a number of advantages over other programming paradigms. For example, functional programs are often easier to reason about, test, and maintain. They are also often more efficient, as they avoid the overhead of maintaining mutable state.\n",
      "\n",
      "Functional programming is used in a wide variety of applications, including operating systems, compilers, and web development. It is also becoming increasingly popular in the machine learning and artificial intelligence communities.\n",
      "\n",
      "Here is a simple example of a functional program written in Haskell, a popular functional programming language:\n",
      "\n",
      "```\n",
      "sumList :: [Int] -> Int\n",
      "sumList [] = 0\n",
      "sumList (x:xs) = x + sumList xs\n",
      "\n",
      "main :: IO ()\n",
      "main = do\n",
      "  print $ sumList [1, 2, 3, 4, 5]\n",
      "```\n",
      "\n",
      "This program defines a function `sumList` that takes a list of integers as input and returns the sum of those integers. The `main` function calls `sumList` on the list `[1, 2, 3, 4, 5]` and prints the result.\n",
      "\n",
      "Functional programming is a powerful and expressive programming paradigm that offers a number of advantages over other paradigms. It is a good choice for a variety of applications, including operating systems, compilers, web development, and machine learning.\n"
     ]
    }
   ],
   "source": [
    "res: Maybe[str] = gemini.generate(\"What is functional programming?\")\n",
    "\n",
    "if res.is_just():\n",
    "    print(res.value)\n",
    "else:\n",
    "    print(res.error)"
   ]
  },
  {
   "cell_type": "code",
   "execution_count": null,
   "metadata": {},
   "outputs": [],
   "source": []
  }
 ],
 "metadata": {
  "kernelspec": {
   "display_name": "py311g",
   "language": "python",
   "name": "python3"
  },
  "language_info": {
   "codemirror_mode": {
    "name": "ipython",
    "version": 3
   },
   "file_extension": ".py",
   "mimetype": "text/x-python",
   "name": "python",
   "nbconvert_exporter": "python",
   "pygments_lexer": "ipython3",
   "version": "3.11.7"
  }
 },
 "nbformat": 4,
 "nbformat_minor": 2
}
